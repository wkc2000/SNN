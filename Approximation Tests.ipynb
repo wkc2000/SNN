{
  "cells": [
    {
      "cell_type": "markdown",
      "id": "c2adbd0e",
      "metadata": {},
      "source": [
        "# LIF: Tightness of approximate solution"
      ]
    },
    {
      "cell_type": "code",
      "execution_count": null,
      "metadata": {},
      "outputs": [],
      "source": [
        "import matplotlib.pyplot as plt\n",
        "import numpy as np\n",
        "from scipy.special import expit\n",
        "\n",
        "# Parameters.\n",
        "tau = 0.005\n",
        "R = 1\n",
        "\n",
        "dt = 0.0005  # Time step.\n",
        "T = 0.1  # Total time\n",
        "n = int(T / dt)  # No. of time steps.\n",
        "t = np.linspace(0, T, n)\n",
        "\n",
        "rdm = np.random.normal(0, 1, size=len(t))\n",
        "const_cur = np.mean(rdm)\n",
        "\n",
        "x = np.ones(n) * 1.0 # LIF ODE.\n",
        "\n",
        "for i in range(n - 1): # Euler-Maruyama method.\n",
        "    x[i + 1] = x[i] + dt * (-1/tau * x[i]) + np.sqrt(dt) * rdm[i]\n",
        "\n",
        "y = [const_cur * R + (1.0 - const_cur * R) * np.exp(-T/tau) for i, T in enumerate(t)]\n",
        "\n",
        "plt.figure()\n",
        "plt.xlabel('Time')\n",
        "plt.ylabel('Membrane Potential')\n",
        "plt.plot(t, x, 'r', linewidth = .75, label = 'LIF ODE')\n",
        "plt.plot(t, y, 'g', linewidth = .75, label = 'LIF Approximate Solution')\n",
        "plt.xlim(0, 0.1)\n",
        "plt.legend()\n",
        "plt.grid(linestyle='-', linewidth=.5)\n",
        "plt.show()"
      ]
    },
    {
      "cell_type": "markdown",
      "id": "ecf65119",
      "metadata": {},
      "source": [
        "# LTC: Adding symmetry & tightness of approximate solution\n"
      ]
    },
    {
      "cell_type": "code",
      "execution_count": null,
      "id": "OEUFr6Pn0Ni3",
      "metadata": {
        "colab": {
          "base_uri": "https://localhost:8080/",
          "height": 449
        },
        "id": "OEUFr6Pn0Ni3",
        "outputId": "723dc187-0d33-45dc-beb3-f502bf4d9af4"
      },
      "outputs": [],
      "source": [
        "# Parameters.\n",
        "tau = 0.005\n",
        "w = 1/tau\n",
        "A = -0.075\n",
        "\n",
        "dt = 0.0005  # Time step.\n",
        "T = 0.1  # Total time\n",
        "n = int(T / dt)  # No. of time steps.\n",
        "t = np.linspace(0, T, n)\n",
        "\n",
        "rdm = np.random.normal(0, 1, size=len(t))\n",
        "\n",
        "x = np.ones(n) * 1 # LTC ODE.\n",
        "y = np.ones(n) * 1 # LTC ODE with symmetry.\n",
        "\n",
        "for i in range(n - 1): # Euler-Maruyama method.\n",
        "    x[i + 1] = x[i] + dt * (-w * x[i]) + np.sqrt(dt) * expit(rdm[i]) * (A - x[i])\n",
        "    y[i + 1] = y[i] + dt * (-w * y[i] + A * w) + np.sqrt(dt) * expit(rdm[i]) * (A - y[i])\n",
        "\n",
        "z = [(0.5-A) * np.exp(-(w + expit(rdm[i])) * T) * expit(-rdm[i])\n",
        "                    + A for i, T in enumerate(t)] # Approximate solution.\n",
        "\n",
        "plt.figure()\n",
        "plt.xlabel('Time')\n",
        "plt.ylabel('Membrane Potential')\n",
        "plt.plot(t, x, 'r', linewidth = .75, label = 'LTC ODE Numerical Solution')\n",
        "plt.plot(t, y, 'b', linewidth = .75, label = 'LTC ODE (with Symmetry) Numerical Solution')\n",
        "plt.plot(t, z, 'g', linewidth = .75, label = 'LTC Approximate Solution')\n",
        "plt.xlim(0, 0.1)\n",
        "plt.legend()\n",
        "plt.grid(linestyle='-', linewidth=.5)\n",
        "plt.show()"
      ]
    }
  ],
  "metadata": {
    "colab": {
      "provenance": []
    },
    "kernelspec": {
      "display_name": "Python 3 (ipykernel)",
      "language": "python",
      "name": "python3"
    },
    "language_info": {
      "codemirror_mode": {
        "name": "ipython",
        "version": 3
      },
      "file_extension": ".py",
      "mimetype": "text/x-python",
      "name": "python",
      "nbconvert_exporter": "python",
      "pygments_lexer": "ipython3",
      "version": "3.9.6"
    }
  },
  "nbformat": 4,
  "nbformat_minor": 5
}
